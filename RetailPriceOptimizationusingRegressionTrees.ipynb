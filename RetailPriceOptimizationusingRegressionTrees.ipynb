{
 "cells": [
  {
   "cell_type": "markdown",
   "id": "8561a1bf",
   "metadata": {},
   "source": [
    "### Retail Price Optimization using Machine Learning\n",
    "\n",
    "In  this  machine  learning  pricing  project,  implement  a retail   price   optimization   algorithm   using   regression trees. This is one of the first steps to building a dynamic pricing model.Pricing a productis a crucial aspect in any business. Alot of  thought  process  is  put  into  it.  There  are  different strategies to price different kinds of products.\n",
    "There are products whose sales are quite sensitive to their prices and  as  such  a  small  change  in  their  price  can  lead  to noticeable   change   in   their sales.   While   there   are products  whose  sales  are  not  much  affected  by  their price-these tend to be either luxury items or necessities (like  certain  medicines).  This  machine  learning  retail price optimization project will focus on the former type ofproducts. \n",
    "\n",
    "Price  elasticity  of  demand  (Epd),  or  elasticity,  is  the degree  to  which  the  effective  desire  for  something changes  as  its  price  changes.  In  general,  people  desire things  less  as  those  things  become  more  expensive. However,   for  some  products,  the  customers  desire could drop sharply even with a little price increase, and for other products, it could stay almost the same even with  a  big  price  increase.  Economists  use  the  term elasticity  to  denote  this  sensitivity  to  price  increases. More  precisely,  price elasticity  gives  the  percentage change  in  quantity  demanded  when  there  is  a  one percent   increase   in   price,   holding   everything   else constant.\n",
    "\n",
    "In this machine learning pricing optimization case study, we will take the data of a cafe and based on their past sales,  identify  the  optimal  prices  for  their  items  based on the price  elasticity of the items. For  each item,  first the  price  elasticity  will  be  calculated  and  then  the optimal  price  will be figured.  \n",
    "\n",
    "This analysis helps us understand  how  customers  will  react  to  different pricing  strategies   for   products   and   services,   i.e., understanding the elasticity of the demand thus in finding the best prices for a iven company,considering its goals. Pricing systems have evolved since the early 1970s until now, from applying very simple strategies, such as a standard markup to base cost, to being capable of predicting the demand of products or services and finding the best price to achieve the setKPI.Price optimization techniques can help retailers evaluate the potential impact of sales promotions or estimate the right price for each product if they want to sell it in a certain period of time.\n",
    "\n",
    "Modules: \n",
    "Competition \n",
    "Weather Season\n",
    "Special events / holidays \n",
    "Macroeconomic variables \n",
    "Operating costs \n",
    "Warehouse information\n",
    "\n",
    "To determine:\n",
    "The initial price \n",
    "The best  price \n",
    "The discountprice\n",
    "The promotional price\n",
    "\n",
    "Details: https://towardsdatascience.com/price-elasticity-data-understanding-and-data-exploration-first-of-all-ae4661da2ecb\n",
    "\n",
    "Datasets:https://onedrive.live.com/?authkey=%21AHDkRFUvt4FI8Wc&cid=7BA8848FE0992BD8&id=7BA8848FE0992BD8%21278810&parId=7BA8848FE0992BD8%21195633&action=locate\n",
    "\n",
    "Datasets Used:  We have used three data sets in the form of CSV files: CafeTransactionStore.csv, CafeMetaData.csv and DateInfo.csv. This data is from the transactions of a Burger Cafè in the Microsoft building in China. \n",
    "The owner of the cafe wants to know how change in prices of the burgers effects their demand among the consumers. This effect of price change on the demand of a product is called as \"Price Elasticity\" and it helps in deciding the right price of a product. \n",
    "\n",
    "We do some data exploration to understand the data - Variable Identification, Univariate Analysis, Bi-variate Analysis, Missing values treatment, Outlier treatment,Variable transformation, Variable / Feature creation\n",
    "\n",
    "Variables in 3 data files: \n",
    "\n",
    "1. CafeTransactionStore.csv\n",
    "\n",
    "STORE: a categorical variable that gives identifier of the store, value is '1'\n",
    "\n",
    "CALENDAR_DATE: a date/time variable, here the time is fixed to 00:00 AM\n",
    "\n",
    "PRICE: a numeric variable, gives the price of the product, product is identified by the SELL_ID\n",
    "\n",
    "QUANTITY: a numeric variable, the quantity of the product sold, product is identified by the SELL_ID\n",
    "\n",
    "SELL_ID: a categorical variable, identifier of the product sold\n",
    "\n",
    "SELL_CATEGORY: a categorical variable, category of the product sold\n",
    "\n",
    "2. CafeMetaData.csv \n",
    "\n",
    "SELL_ID: identifier of the product sold, it is present in CafeTransactionStore.csv also. \n",
    "\n",
    "SELL_CATEGORY:  category of the product sold, it is present in CafeTransactionStore.csv also. The category '0' means single products, category '2' means the combo products\n",
    "\n",
    "ITEM_ID: a categorical variable, identifier of the item that is contained in the product\n",
    "\n",
    "ITEM_NAME: a categorical variable, identifying the name of the item\n",
    "\n",
    "3. DateInfo.csv \n",
    "\n",
    "CALENDAR_DATE: a date/time variable, indicating the date of a calendar\n",
    "\n",
    "YEAR: a numeric variable, indicating the year of the corresponding CALENDAR_DATE\n",
    "\n",
    "HOLIDAY: a categorical variable, indicating if the corresponding CALENDAR_DATE is a holiday\n",
    "\n",
    "IS_WEEKEND: a categorical variable, indicating if the corresponding CALENDAR_DATE is a weekend\n",
    "\n",
    "IS_SCHOOLBREAK: a categorical variable, indicating if the corresponding CALENDAR_DATE is a school break\n",
    "\n",
    "AVERAGE_TEMPERATURE: a numeric variable, indicating the average temperature in Fahrenheit of the corresponding CALENDAR_DATE day\n",
    "\n",
    "IS_OUTDOOR: a categorical variable, '1' if the temperature is the measured outside, '0' if temperature is measured inside the building\n"
   ]
  },
  {
   "cell_type": "markdown",
   "id": "12d48e6a",
   "metadata": {},
   "source": [
    "## References and Source Credits\n",
    "- 1. https://github.com/sukesh-reddy/Retail-Price-Optimization-\n",
    "- 2. http://datapandas.com/index.php/2016/11/02/decision-tree-price-optimisation-regression-tree/\n",
    "- 3. https://github.com/benadaba/Price-Optimisation/blob/5ed6ab513786efded873b829d58ae28b36dad502/Price-Optimisation.py\n",
    "- 4. https://scikit-learn.org/stable/auto_examples/tree/plot_tree_regression.html\n",
    "- 5. https://github.com/benadaba/Price-Optimisation\n",
    "- 6. https://github.com/SoftServeSAG/retail_price_analytics"
   ]
  },
  {
   "cell_type": "code",
   "execution_count": 1,
   "id": "e0e0a890",
   "metadata": {},
   "outputs": [],
   "source": [
    "# Import the reqiured libraries\n",
    "import pandas as pd\n",
    "import numpy as np\n",
    "import matplotlib.pyplot as plt\n",
    "import seaborn as sns\n",
    "from sklearn.tree import DecisionTreeRegressor"
   ]
  },
  {
   "cell_type": "code",
   "execution_count": 2,
   "id": "f208f4a5",
   "metadata": {},
   "outputs": [],
   "source": [
    "transactions = pd.read_csv('CafeTransactionStore.csv')\n",
    "items = pd.read_csv('CafeMetaData.csv')\n",
    "dates = pd.read_csv('DateInfo.csv')"
   ]
  },
  {
   "cell_type": "code",
   "execution_count": 3,
   "id": "19775651",
   "metadata": {},
   "outputs": [
    {
     "data": {
      "text/html": [
       "<div>\n",
       "<style scoped>\n",
       "    .dataframe tbody tr th:only-of-type {\n",
       "        vertical-align: middle;\n",
       "    }\n",
       "\n",
       "    .dataframe tbody tr th {\n",
       "        vertical-align: top;\n",
       "    }\n",
       "\n",
       "    .dataframe thead th {\n",
       "        text-align: right;\n",
       "    }\n",
       "</style>\n",
       "<table border=\"1\" class=\"dataframe\">\n",
       "  <thead>\n",
       "    <tr style=\"text-align: right;\">\n",
       "      <th></th>\n",
       "      <th>STORE</th>\n",
       "      <th>CALENDAR_DATE</th>\n",
       "      <th>PRICE</th>\n",
       "      <th>QUANTITY</th>\n",
       "      <th>SELL_ID</th>\n",
       "      <th>SELL_CATEGORY</th>\n",
       "    </tr>\n",
       "  </thead>\n",
       "  <tbody>\n",
       "    <tr>\n",
       "      <th>0</th>\n",
       "      <td>1</td>\n",
       "      <td>1/1/12</td>\n",
       "      <td>15.50</td>\n",
       "      <td>46</td>\n",
       "      <td>1070</td>\n",
       "      <td>0</td>\n",
       "    </tr>\n",
       "    <tr>\n",
       "      <th>1</th>\n",
       "      <td>1</td>\n",
       "      <td>1/1/12</td>\n",
       "      <td>12.73</td>\n",
       "      <td>22</td>\n",
       "      <td>2051</td>\n",
       "      <td>2</td>\n",
       "    </tr>\n",
       "    <tr>\n",
       "      <th>2</th>\n",
       "      <td>1</td>\n",
       "      <td>1/1/12</td>\n",
       "      <td>12.75</td>\n",
       "      <td>18</td>\n",
       "      <td>2052</td>\n",
       "      <td>2</td>\n",
       "    </tr>\n",
       "    <tr>\n",
       "      <th>3</th>\n",
       "      <td>1</td>\n",
       "      <td>1/1/12</td>\n",
       "      <td>12.60</td>\n",
       "      <td>30</td>\n",
       "      <td>2053</td>\n",
       "      <td>2</td>\n",
       "    </tr>\n",
       "    <tr>\n",
       "      <th>4</th>\n",
       "      <td>1</td>\n",
       "      <td>1/2/12</td>\n",
       "      <td>15.50</td>\n",
       "      <td>70</td>\n",
       "      <td>1070</td>\n",
       "      <td>0</td>\n",
       "    </tr>\n",
       "  </tbody>\n",
       "</table>\n",
       "</div>"
      ],
      "text/plain": [
       "   STORE CALENDAR_DATE  PRICE  QUANTITY  SELL_ID  SELL_CATEGORY\n",
       "0      1        1/1/12  15.50        46     1070              0\n",
       "1      1        1/1/12  12.73        22     2051              2\n",
       "2      1        1/1/12  12.75        18     2052              2\n",
       "3      1        1/1/12  12.60        30     2053              2\n",
       "4      1        1/2/12  15.50        70     1070              0"
      ]
     },
     "execution_count": 3,
     "metadata": {},
     "output_type": "execute_result"
    }
   ],
   "source": [
    "transactions.head()"
   ]
  },
  {
   "cell_type": "code",
   "execution_count": 4,
   "id": "e3ac628c",
   "metadata": {},
   "outputs": [
    {
     "data": {
      "text/plain": [
       "array([1], dtype=int64)"
      ]
     },
     "execution_count": 4,
     "metadata": {},
     "output_type": "execute_result"
    }
   ],
   "source": [
    "transactions.STORE.unique()"
   ]
  },
  {
   "cell_type": "code",
   "execution_count": 5,
   "id": "078446d5",
   "metadata": {},
   "outputs": [],
   "source": [
    "transactions = transactions.drop('STORE', axis = 1)"
   ]
  },
  {
   "cell_type": "code",
   "execution_count": 6,
   "id": "0c38af31",
   "metadata": {},
   "outputs": [
    {
     "data": {
      "text/html": [
       "<div>\n",
       "<style scoped>\n",
       "    .dataframe tbody tr th:only-of-type {\n",
       "        vertical-align: middle;\n",
       "    }\n",
       "\n",
       "    .dataframe tbody tr th {\n",
       "        vertical-align: top;\n",
       "    }\n",
       "\n",
       "    .dataframe thead th {\n",
       "        text-align: right;\n",
       "    }\n",
       "</style>\n",
       "<table border=\"1\" class=\"dataframe\">\n",
       "  <thead>\n",
       "    <tr style=\"text-align: right;\">\n",
       "      <th></th>\n",
       "      <th>CALENDAR_DATE</th>\n",
       "      <th>PRICE</th>\n",
       "      <th>QUANTITY</th>\n",
       "      <th>SELL_ID</th>\n",
       "      <th>SELL_CATEGORY</th>\n",
       "    </tr>\n",
       "  </thead>\n",
       "  <tbody>\n",
       "    <tr>\n",
       "      <th>0</th>\n",
       "      <td>1/1/12</td>\n",
       "      <td>15.50</td>\n",
       "      <td>46</td>\n",
       "      <td>1070</td>\n",
       "      <td>0</td>\n",
       "    </tr>\n",
       "    <tr>\n",
       "      <th>1</th>\n",
       "      <td>1/1/12</td>\n",
       "      <td>12.73</td>\n",
       "      <td>22</td>\n",
       "      <td>2051</td>\n",
       "      <td>2</td>\n",
       "    </tr>\n",
       "    <tr>\n",
       "      <th>2</th>\n",
       "      <td>1/1/12</td>\n",
       "      <td>12.75</td>\n",
       "      <td>18</td>\n",
       "      <td>2052</td>\n",
       "      <td>2</td>\n",
       "    </tr>\n",
       "    <tr>\n",
       "      <th>3</th>\n",
       "      <td>1/1/12</td>\n",
       "      <td>12.60</td>\n",
       "      <td>30</td>\n",
       "      <td>2053</td>\n",
       "      <td>2</td>\n",
       "    </tr>\n",
       "    <tr>\n",
       "      <th>4</th>\n",
       "      <td>1/2/12</td>\n",
       "      <td>15.50</td>\n",
       "      <td>70</td>\n",
       "      <td>1070</td>\n",
       "      <td>0</td>\n",
       "    </tr>\n",
       "  </tbody>\n",
       "</table>\n",
       "</div>"
      ],
      "text/plain": [
       "  CALENDAR_DATE  PRICE  QUANTITY  SELL_ID  SELL_CATEGORY\n",
       "0        1/1/12  15.50        46     1070              0\n",
       "1        1/1/12  12.73        22     2051              2\n",
       "2        1/1/12  12.75        18     2052              2\n",
       "3        1/1/12  12.60        30     2053              2\n",
       "4        1/2/12  15.50        70     1070              0"
      ]
     },
     "execution_count": 6,
     "metadata": {},
     "output_type": "execute_result"
    }
   ],
   "source": [
    "transactions.head()"
   ]
  },
  {
   "cell_type": "code",
   "execution_count": 7,
   "id": "285c67ca",
   "metadata": {},
   "outputs": [
    {
     "data": {
      "text/html": [
       "<div>\n",
       "<style scoped>\n",
       "    .dataframe tbody tr th:only-of-type {\n",
       "        vertical-align: middle;\n",
       "    }\n",
       "\n",
       "    .dataframe tbody tr th {\n",
       "        vertical-align: top;\n",
       "    }\n",
       "\n",
       "    .dataframe thead th {\n",
       "        text-align: right;\n",
       "    }\n",
       "</style>\n",
       "<table border=\"1\" class=\"dataframe\">\n",
       "  <thead>\n",
       "    <tr style=\"text-align: right;\">\n",
       "      <th></th>\n",
       "      <th>SELL_ID</th>\n",
       "      <th>SELL_CATEGORY</th>\n",
       "      <th>ITEM_ID</th>\n",
       "      <th>ITEM_NAME</th>\n",
       "    </tr>\n",
       "  </thead>\n",
       "  <tbody>\n",
       "    <tr>\n",
       "      <th>0</th>\n",
       "      <td>1070</td>\n",
       "      <td>0</td>\n",
       "      <td>7821</td>\n",
       "      <td>BURGER</td>\n",
       "    </tr>\n",
       "    <tr>\n",
       "      <th>1</th>\n",
       "      <td>3055</td>\n",
       "      <td>0</td>\n",
       "      <td>3052</td>\n",
       "      <td>COFFEE</td>\n",
       "    </tr>\n",
       "    <tr>\n",
       "      <th>2</th>\n",
       "      <td>3067</td>\n",
       "      <td>0</td>\n",
       "      <td>5030</td>\n",
       "      <td>COKE</td>\n",
       "    </tr>\n",
       "    <tr>\n",
       "      <th>3</th>\n",
       "      <td>3028</td>\n",
       "      <td>0</td>\n",
       "      <td>6249</td>\n",
       "      <td>LEMONADE</td>\n",
       "    </tr>\n",
       "    <tr>\n",
       "      <th>4</th>\n",
       "      <td>2051</td>\n",
       "      <td>2</td>\n",
       "      <td>7821</td>\n",
       "      <td>BURGER</td>\n",
       "    </tr>\n",
       "  </tbody>\n",
       "</table>\n",
       "</div>"
      ],
      "text/plain": [
       "   SELL_ID  SELL_CATEGORY  ITEM_ID ITEM_NAME\n",
       "0     1070              0     7821    BURGER\n",
       "1     3055              0     3052    COFFEE\n",
       "2     3067              0     5030      COKE\n",
       "3     3028              0     6249  LEMONADE\n",
       "4     2051              2     7821    BURGER"
      ]
     },
     "execution_count": 7,
     "metadata": {},
     "output_type": "execute_result"
    }
   ],
   "source": [
    "items.head()"
   ]
  },
  {
   "cell_type": "code",
   "execution_count": 8,
   "id": "c6d06bc2",
   "metadata": {},
   "outputs": [
    {
     "data": {
      "text/html": [
       "<div>\n",
       "<style scoped>\n",
       "    .dataframe tbody tr th:only-of-type {\n",
       "        vertical-align: middle;\n",
       "    }\n",
       "\n",
       "    .dataframe tbody tr th {\n",
       "        vertical-align: top;\n",
       "    }\n",
       "\n",
       "    .dataframe thead th {\n",
       "        text-align: right;\n",
       "    }\n",
       "</style>\n",
       "<table border=\"1\" class=\"dataframe\">\n",
       "  <thead>\n",
       "    <tr style=\"text-align: right;\">\n",
       "      <th></th>\n",
       "      <th>CALENDAR_DATE</th>\n",
       "      <th>YEAR</th>\n",
       "      <th>HOLIDAY</th>\n",
       "      <th>IS_WEEKEND</th>\n",
       "      <th>IS_SCHOOLBREAK</th>\n",
       "      <th>AVERAGE_TEMPERATURE</th>\n",
       "      <th>IS_OUTDOOR</th>\n",
       "    </tr>\n",
       "  </thead>\n",
       "  <tbody>\n",
       "    <tr>\n",
       "      <th>0</th>\n",
       "      <td>1/1/12</td>\n",
       "      <td>2012</td>\n",
       "      <td>New Year</td>\n",
       "      <td>1</td>\n",
       "      <td>0</td>\n",
       "      <td>24.8</td>\n",
       "      <td>0</td>\n",
       "    </tr>\n",
       "    <tr>\n",
       "      <th>1</th>\n",
       "      <td>1/2/12</td>\n",
       "      <td>2012</td>\n",
       "      <td>New Year</td>\n",
       "      <td>0</td>\n",
       "      <td>0</td>\n",
       "      <td>24.8</td>\n",
       "      <td>0</td>\n",
       "    </tr>\n",
       "    <tr>\n",
       "      <th>2</th>\n",
       "      <td>1/3/12</td>\n",
       "      <td>2012</td>\n",
       "      <td>New Year</td>\n",
       "      <td>0</td>\n",
       "      <td>0</td>\n",
       "      <td>32.0</td>\n",
       "      <td>1</td>\n",
       "    </tr>\n",
       "    <tr>\n",
       "      <th>3</th>\n",
       "      <td>1/4/12</td>\n",
       "      <td>2012</td>\n",
       "      <td>NaN</td>\n",
       "      <td>0</td>\n",
       "      <td>0</td>\n",
       "      <td>32.0</td>\n",
       "      <td>1</td>\n",
       "    </tr>\n",
       "    <tr>\n",
       "      <th>4</th>\n",
       "      <td>1/5/12</td>\n",
       "      <td>2012</td>\n",
       "      <td>NaN</td>\n",
       "      <td>0</td>\n",
       "      <td>0</td>\n",
       "      <td>24.8</td>\n",
       "      <td>0</td>\n",
       "    </tr>\n",
       "  </tbody>\n",
       "</table>\n",
       "</div>"
      ],
      "text/plain": [
       "  CALENDAR_DATE  YEAR   HOLIDAY  IS_WEEKEND  IS_SCHOOLBREAK  \\\n",
       "0        1/1/12  2012  New Year           1               0   \n",
       "1        1/2/12  2012  New Year           0               0   \n",
       "2        1/3/12  2012  New Year           0               0   \n",
       "3        1/4/12  2012       NaN           0               0   \n",
       "4        1/5/12  2012       NaN           0               0   \n",
       "\n",
       "   AVERAGE_TEMPERATURE  IS_OUTDOOR  \n",
       "0                 24.8           0  \n",
       "1                 24.8           0  \n",
       "2                 32.0           1  \n",
       "3                 32.0           1  \n",
       "4                 24.8           0  "
      ]
     },
     "execution_count": 8,
     "metadata": {},
     "output_type": "execute_result"
    }
   ],
   "source": [
    "dates.head()"
   ]
  },
  {
   "cell_type": "code",
   "execution_count": 9,
   "id": "af7066ff",
   "metadata": {},
   "outputs": [
    {
     "name": "stdout",
     "output_type": "stream",
     "text": [
      "(5404, 5)\n",
      "(11, 4)\n",
      "(1349, 7)\n"
     ]
    }
   ],
   "source": [
    "print(transactions.shape)\n",
    "print(items.shape)\n",
    "print(dates.shape)"
   ]
  },
  {
   "cell_type": "code",
   "execution_count": 10,
   "id": "49cf7d7d",
   "metadata": {},
   "outputs": [
    {
     "name": "stdout",
     "output_type": "stream",
     "text": [
      "CALENDAR_DATE    0\n",
      "PRICE            0\n",
      "QUANTITY         0\n",
      "SELL_ID          0\n",
      "SELL_CATEGORY    0\n",
      "dtype: int64 \n",
      "\n",
      "SELL_ID          0\n",
      "SELL_CATEGORY    0\n",
      "ITEM_ID          0\n",
      "ITEM_NAME        0\n",
      "dtype: int64 \n",
      "\n",
      "CALENDAR_DATE             0\n",
      "YEAR                      0\n",
      "HOLIDAY                1244\n",
      "IS_WEEKEND                0\n",
      "IS_SCHOOLBREAK            0\n",
      "AVERAGE_TEMPERATURE       0\n",
      "IS_OUTDOOR                0\n",
      "dtype: int64\n"
     ]
    }
   ],
   "source": [
    "print(transactions.isna().sum(), \"\\n\")\n",
    "print(items.isna().sum(),\"\\n\")\n",
    "print(dates.isna().sum())"
   ]
  },
  {
   "cell_type": "code",
   "execution_count": 11,
   "id": "19a7af70",
   "metadata": {},
   "outputs": [],
   "source": [
    "transactions = transactions.dropna()\n",
    "items = items.dropna()\n",
    "dates = dates.dropna()"
   ]
  },
  {
   "cell_type": "code",
   "execution_count": 12,
   "id": "d4397c64",
   "metadata": {},
   "outputs": [
    {
     "name": "stdout",
     "output_type": "stream",
     "text": [
      "CALENDAR_DATE    0\n",
      "PRICE            0\n",
      "QUANTITY         0\n",
      "SELL_ID          0\n",
      "SELL_CATEGORY    0\n",
      "dtype: int64 \n",
      "\n",
      "SELL_ID          0\n",
      "SELL_CATEGORY    0\n",
      "ITEM_ID          0\n",
      "ITEM_NAME        0\n",
      "dtype: int64 \n",
      "\n",
      "CALENDAR_DATE          0\n",
      "YEAR                   0\n",
      "HOLIDAY                0\n",
      "IS_WEEKEND             0\n",
      "IS_SCHOOLBREAK         0\n",
      "AVERAGE_TEMPERATURE    0\n",
      "IS_OUTDOOR             0\n",
      "dtype: int64\n"
     ]
    }
   ],
   "source": [
    "print(transactions.isna().sum(), \"\\n\")\n",
    "print(items.isna().sum(),\"\\n\")\n",
    "print(dates.isna().sum())"
   ]
  },
  {
   "cell_type": "code",
   "execution_count": 13,
   "id": "e5642fea",
   "metadata": {},
   "outputs": [
    {
     "name": "stdout",
     "output_type": "stream",
     "text": [
      "CALENDAR_DATE     object\n",
      "PRICE            float64\n",
      "QUANTITY           int64\n",
      "SELL_ID            int64\n",
      "SELL_CATEGORY      int64\n",
      "dtype: object \n",
      "\n",
      "SELL_ID           int64\n",
      "SELL_CATEGORY     int64\n",
      "ITEM_ID           int64\n",
      "ITEM_NAME        object\n",
      "dtype: object \n",
      "\n",
      "CALENDAR_DATE           object\n",
      "YEAR                     int64\n",
      "HOLIDAY                 object\n",
      "IS_WEEKEND               int64\n",
      "IS_SCHOOLBREAK           int64\n",
      "AVERAGE_TEMPERATURE    float64\n",
      "IS_OUTDOOR               int64\n",
      "dtype: object \n",
      "\n"
     ]
    }
   ],
   "source": [
    "print(transactions.dtypes, \"\\n\")\n",
    "print(items.dtypes, \"\\n\")\n",
    "print(dates.dtypes, \"\\n\")"
   ]
  },
  {
   "cell_type": "code",
   "execution_count": 14,
   "id": "cc250125",
   "metadata": {},
   "outputs": [
    {
     "data": {
      "text/plain": [
       "array([1070, 2051, 2052, 2053], dtype=int64)"
      ]
     },
     "execution_count": 14,
     "metadata": {},
     "output_type": "execute_result"
    }
   ],
   "source": [
    "transactions['SELL_ID'].unique()"
   ]
  },
  {
   "cell_type": "code",
   "execution_count": 15,
   "id": "ff43f6ac",
   "metadata": {},
   "outputs": [
    {
     "data": {
      "text/plain": [
       "array([1070, 3055, 3067, 3028, 2051, 2052, 2053], dtype=int64)"
      ]
     },
     "execution_count": 15,
     "metadata": {},
     "output_type": "execute_result"
    }
   ],
   "source": [
    "items['SELL_ID'].unique()"
   ]
  },
  {
   "cell_type": "code",
   "execution_count": 16,
   "id": "da6eb610",
   "metadata": {},
   "outputs": [
    {
     "name": "stdout",
     "output_type": "stream",
     "text": [
      "Index(['CALENDAR_DATE', 'PRICE', 'QUANTITY', 'SELL_ID', 'SELL_CATEGORY'], dtype='object')\n",
      "Index(['SELL_ID', 'SELL_CATEGORY', 'ITEM_ID', 'ITEM_NAME'], dtype='object')\n",
      "Index(['CALENDAR_DATE', 'YEAR', 'HOLIDAY', 'IS_WEEKEND', 'IS_SCHOOLBREAK',\n",
      "       'AVERAGE_TEMPERATURE', 'IS_OUTDOOR'],\n",
      "      dtype='object')\n"
     ]
    }
   ],
   "source": [
    "print(transactions.columns)\n",
    "print(items.columns)\n",
    "print(dates.columns)"
   ]
  },
  {
   "cell_type": "code",
   "execution_count": 17,
   "id": "4e8db514",
   "metadata": {},
   "outputs": [
    {
     "data": {
      "image/png": "[encoded data removed]",
      "text/plain": [
       "<Figure size 432x288 with 1 Axes>"
      ]
     },
     "metadata": {
      "needs_background": "light"
     },
     "output_type": "display_data"
    }
   ],
   "source": [
    "sns.barplot(x=\"SELL_ID\", y=\"PRICE\", data=transactions)\n",
    "plt.title('Product Sold Vs Price')\n",
    "plt.xlabel('SELL-ID')\n",
    "plt.ylabel('Price')\n",
    "plt.show()"
   ]
  },
  {
   "cell_type": "code",
   "execution_count": 18,
   "id": "b261d1f4",
   "metadata": {},
   "outputs": [
    {
     "data": {
      "image/png": "[encoded data removed]",
      "text/plain": [
       "<Figure size 432x288 with 1 Axes>"
      ]
     },
     "metadata": {
      "needs_background": "light"
     },
     "output_type": "display_data"
    }
   ],
   "source": [
    "sns.barplot(x=\"SELL_ID\", y=\"QUANTITY\", data=transactions)\n",
    "plt.title('Product Sold Vs Quantity Sold')\n",
    "plt.xlabel('SELL-ID')\n",
    "plt.ylabel('Quantity')\n",
    "plt.show()"
   ]
  },
  {
   "cell_type": "code",
   "execution_count": 19,
   "id": "beb36f99",
   "metadata": {},
   "outputs": [
    {
     "data": {
      "image/png": "[encoded data removed]",
      "text/plain": [
       "<Figure size 936x576 with 1 Axes>"
      ]
     },
     "metadata": {
      "needs_background": "light"
     },
     "output_type": "display_data"
    }
   ],
   "source": [
    "plt.rcParams[\"figure.figsize\"] = (13, 8)\n",
    "scat1 = sns.regplot(x=\"PRICE\", y=\"QUANTITY\",   data=transactions)\n",
    "plt.title('Regression Plot: PRICE vs QUANTITY')\n",
    "plt.xlabel('PRICE')\n",
    "plt.ylabel('QUANTITY')\n",
    "plt.show()"
   ]
  },
  {
   "cell_type": "code",
   "execution_count": 20,
   "id": "95ec7caf",
   "metadata": {},
   "outputs": [
    {
     "data": {
      "text/plain": [
       "Index(['CALENDAR_DATE', 'PRICE', 'QUANTITY', 'SELL_ID', 'SELL_CATEGORY'], dtype='object')"
      ]
     },
     "execution_count": 20,
     "metadata": {},
     "output_type": "execute_result"
    }
   ],
   "source": [
    "transactions.columns"
   ]
  },
  {
   "cell_type": "code",
   "execution_count": 21,
   "id": "1f74193c",
   "metadata": {},
   "outputs": [
    {
     "data": {
      "text/plain": [
       "array([0, 2], dtype=int64)"
      ]
     },
     "execution_count": 21,
     "metadata": {},
     "output_type": "execute_result"
    }
   ],
   "source": [
    "transactions.SELL_CATEGORY.unique()"
   ]
  },
  {
   "cell_type": "code",
   "execution_count": 22,
   "id": "7048e3f1",
   "metadata": {},
   "outputs": [
    {
     "data": {
      "image/png": "[encoded data removed]",
      "text/plain": [
       "<Figure size 360x216 with 1 Axes>"
      ]
     },
     "metadata": {
      "needs_background": "light"
     },
     "output_type": "display_data"
    }
   ],
   "source": [
    "plt.rcParams[\"figure.figsize\"] = (5, 3)\n",
    "scat2 = sns.barplot(x=\"SELL_CATEGORY\", y=\"QUANTITY\", data=transactions)\n",
    "plt.title('SELL CATEGORY vs QUANITTY')\n",
    "plt.xlabel('SELL_CATEGORY')\n",
    "plt.ylabel('QUANTITY')\n",
    "plt.show()"
   ]
  },
  {
   "cell_type": "code",
   "execution_count": 23,
   "id": "28f0ab5e",
   "metadata": {},
   "outputs": [
    {
     "data": {
      "text/plain": [
       "(420, 11)"
      ]
     },
     "execution_count": 23,
     "metadata": {},
     "output_type": "execute_result"
    }
   ],
   "source": [
    "tr_dates = pd.merge(transactions, dates, how='inner', on = 'CALENDAR_DATE')\n",
    "tr_dates.shape"
   ]
  },
  {
   "cell_type": "code",
   "execution_count": 24,
   "id": "b89e04a0",
   "metadata": {},
   "outputs": [
    {
     "data": {
      "text/plain": [
       "CALENDAR_DATE          0\n",
       "PRICE                  0\n",
       "QUANTITY               0\n",
       "SELL_ID                0\n",
       "SELL_CATEGORY          0\n",
       "YEAR                   0\n",
       "HOLIDAY                0\n",
       "IS_WEEKEND             0\n",
       "IS_SCHOOLBREAK         0\n",
       "AVERAGE_TEMPERATURE    0\n",
       "IS_OUTDOOR             0\n",
       "dtype: int64"
      ]
     },
     "execution_count": 24,
     "metadata": {},
     "output_type": "execute_result"
    }
   ],
   "source": [
    "tr_dates.isna().sum()"
   ]
  },
  {
   "cell_type": "code",
   "execution_count": 25,
   "id": "69d24a4e",
   "metadata": {},
   "outputs": [
    {
     "data": {
      "text/plain": [
       "CALENDAR_DATE          0\n",
       "YEAR                   0\n",
       "HOLIDAY                0\n",
       "IS_WEEKEND             0\n",
       "IS_SCHOOLBREAK         0\n",
       "AVERAGE_TEMPERATURE    0\n",
       "IS_OUTDOOR             0\n",
       "dtype: int64"
      ]
     },
     "execution_count": 25,
     "metadata": {},
     "output_type": "execute_result"
    }
   ],
   "source": [
    "dates.isna().sum()"
   ]
  },
  {
   "cell_type": "code",
   "execution_count": 26,
   "id": "83b606df",
   "metadata": {},
   "outputs": [
    {
     "data": {
      "text/html": [
       "<div>\n",
       "<style scoped>\n",
       "    .dataframe tbody tr th:only-of-type {\n",
       "        vertical-align: middle;\n",
       "    }\n",
       "\n",
       "    .dataframe tbody tr th {\n",
       "        vertical-align: top;\n",
       "    }\n",
       "\n",
       "    .dataframe thead th {\n",
       "        text-align: right;\n",
       "    }\n",
       "</style>\n",
       "<table border=\"1\" class=\"dataframe\">\n",
       "  <thead>\n",
       "    <tr style=\"text-align: right;\">\n",
       "      <th></th>\n",
       "      <th>CALENDAR_DATE</th>\n",
       "      <th>PRICE</th>\n",
       "      <th>QUANTITY</th>\n",
       "      <th>SELL_ID</th>\n",
       "      <th>SELL_CATEGORY_x</th>\n",
       "      <th>YEAR</th>\n",
       "      <th>HOLIDAY</th>\n",
       "      <th>IS_WEEKEND</th>\n",
       "      <th>IS_SCHOOLBREAK</th>\n",
       "      <th>AVERAGE_TEMPERATURE</th>\n",
       "      <th>IS_OUTDOOR</th>\n",
       "      <th>SELL_CATEGORY_y</th>\n",
       "      <th>ITEM_ID</th>\n",
       "      <th>ITEM_NAME</th>\n",
       "    </tr>\n",
       "  </thead>\n",
       "  <tbody>\n",
       "    <tr>\n",
       "      <th>0</th>\n",
       "      <td>1/1/12</td>\n",
       "      <td>15.5</td>\n",
       "      <td>46</td>\n",
       "      <td>1070</td>\n",
       "      <td>0</td>\n",
       "      <td>2012</td>\n",
       "      <td>New Year</td>\n",
       "      <td>1</td>\n",
       "      <td>0</td>\n",
       "      <td>24.8</td>\n",
       "      <td>0</td>\n",
       "      <td>0</td>\n",
       "      <td>7821</td>\n",
       "      <td>BURGER</td>\n",
       "    </tr>\n",
       "    <tr>\n",
       "      <th>1</th>\n",
       "      <td>1/2/12</td>\n",
       "      <td>15.5</td>\n",
       "      <td>70</td>\n",
       "      <td>1070</td>\n",
       "      <td>0</td>\n",
       "      <td>2012</td>\n",
       "      <td>New Year</td>\n",
       "      <td>0</td>\n",
       "      <td>0</td>\n",
       "      <td>24.8</td>\n",
       "      <td>0</td>\n",
       "      <td>0</td>\n",
       "      <td>7821</td>\n",
       "      <td>BURGER</td>\n",
       "    </tr>\n",
       "    <tr>\n",
       "      <th>2</th>\n",
       "      <td>1/3/12</td>\n",
       "      <td>15.5</td>\n",
       "      <td>62</td>\n",
       "      <td>1070</td>\n",
       "      <td>0</td>\n",
       "      <td>2012</td>\n",
       "      <td>New Year</td>\n",
       "      <td>0</td>\n",
       "      <td>0</td>\n",
       "      <td>32.0</td>\n",
       "      <td>1</td>\n",
       "      <td>0</td>\n",
       "      <td>7821</td>\n",
       "      <td>BURGER</td>\n",
       "    </tr>\n",
       "    <tr>\n",
       "      <th>3</th>\n",
       "      <td>2/2/12</td>\n",
       "      <td>15.5</td>\n",
       "      <td>64</td>\n",
       "      <td>1070</td>\n",
       "      <td>0</td>\n",
       "      <td>2012</td>\n",
       "      <td>Luner New Year</td>\n",
       "      <td>0</td>\n",
       "      <td>0</td>\n",
       "      <td>32.0</td>\n",
       "      <td>1</td>\n",
       "      <td>0</td>\n",
       "      <td>7821</td>\n",
       "      <td>BURGER</td>\n",
       "    </tr>\n",
       "    <tr>\n",
       "      <th>4</th>\n",
       "      <td>2/3/12</td>\n",
       "      <td>15.5</td>\n",
       "      <td>62</td>\n",
       "      <td>1070</td>\n",
       "      <td>0</td>\n",
       "      <td>2012</td>\n",
       "      <td>Luner New Year</td>\n",
       "      <td>0</td>\n",
       "      <td>0</td>\n",
       "      <td>32.0</td>\n",
       "      <td>1</td>\n",
       "      <td>0</td>\n",
       "      <td>7821</td>\n",
       "      <td>BURGER</td>\n",
       "    </tr>\n",
       "  </tbody>\n",
       "</table>\n",
       "</div>"
      ],
      "text/plain": [
       "  CALENDAR_DATE  PRICE  QUANTITY  SELL_ID  SELL_CATEGORY_x  YEAR  \\\n",
       "0        1/1/12   15.5        46     1070                0  2012   \n",
       "1        1/2/12   15.5        70     1070                0  2012   \n",
       "2        1/3/12   15.5        62     1070                0  2012   \n",
       "3        2/2/12   15.5        64     1070                0  2012   \n",
       "4        2/3/12   15.5        62     1070                0  2012   \n",
       "\n",
       "          HOLIDAY  IS_WEEKEND  IS_SCHOOLBREAK  AVERAGE_TEMPERATURE  \\\n",
       "0        New Year           1               0                 24.8   \n",
       "1        New Year           0               0                 24.8   \n",
       "2        New Year           0               0                 32.0   \n",
       "3  Luner New Year           0               0                 32.0   \n",
       "4  Luner New Year           0               0                 32.0   \n",
       "\n",
       "   IS_OUTDOOR  SELL_CATEGORY_y  ITEM_ID ITEM_NAME  \n",
       "0           0                0     7821    BURGER  \n",
       "1           0                0     7821    BURGER  \n",
       "2           1                0     7821    BURGER  \n",
       "3           1                0     7821    BURGER  \n",
       "4           1                0     7821    BURGER  "
      ]
     },
     "execution_count": 26,
     "metadata": {},
     "output_type": "execute_result"
    }
   ],
   "source": [
    "tr_items_dates = pd.merge(tr_dates, items, how = 'inner', on = 'SELL_ID')\n",
    "tr_items_dates.head()"
   ]
  },
  {
   "cell_type": "code",
   "execution_count": 27,
   "id": "77bc197a",
   "metadata": {},
   "outputs": [
    {
     "data": {
      "text/plain": [
       "CALENDAR_DATE          0\n",
       "PRICE                  0\n",
       "QUANTITY               0\n",
       "SELL_ID                0\n",
       "SELL_CATEGORY_x        0\n",
       "YEAR                   0\n",
       "HOLIDAY                0\n",
       "IS_WEEKEND             0\n",
       "IS_SCHOOLBREAK         0\n",
       "AVERAGE_TEMPERATURE    0\n",
       "IS_OUTDOOR             0\n",
       "SELL_CATEGORY_y        0\n",
       "ITEM_ID                0\n",
       "ITEM_NAME              0\n",
       "dtype: int64"
      ]
     },
     "execution_count": 27,
     "metadata": {},
     "output_type": "execute_result"
    }
   ],
   "source": [
    "tr_items_dates.isna().sum()"
   ]
  },
  {
   "cell_type": "code",
   "execution_count": 28,
   "id": "c0734484",
   "metadata": {},
   "outputs": [
    {
     "data": {
      "text/html": [
       "<div>\n",
       "<style scoped>\n",
       "    .dataframe tbody tr th:only-of-type {\n",
       "        vertical-align: middle;\n",
       "    }\n",
       "\n",
       "    .dataframe tbody tr th {\n",
       "        vertical-align: top;\n",
       "    }\n",
       "\n",
       "    .dataframe thead th {\n",
       "        text-align: right;\n",
       "    }\n",
       "</style>\n",
       "<table border=\"1\" class=\"dataframe\">\n",
       "  <thead>\n",
       "    <tr style=\"text-align: right;\">\n",
       "      <th></th>\n",
       "      <th>CALENDAR_DATE</th>\n",
       "      <th>PRICE</th>\n",
       "      <th>QUANTITY</th>\n",
       "      <th>SELL_ID</th>\n",
       "      <th>SELL_CATEGORY_x</th>\n",
       "      <th>YEAR</th>\n",
       "      <th>HOLIDAY</th>\n",
       "      <th>IS_WEEKEND</th>\n",
       "      <th>IS_SCHOOLBREAK</th>\n",
       "      <th>AVERAGE_TEMPERATURE</th>\n",
       "      <th>IS_OUTDOOR</th>\n",
       "      <th>SELL_CATEGORY_y</th>\n",
       "      <th>ITEM_ID</th>\n",
       "      <th>ITEM_NAME</th>\n",
       "    </tr>\n",
       "  </thead>\n",
       "  <tbody>\n",
       "    <tr>\n",
       "      <th>0</th>\n",
       "      <td>1/1/12</td>\n",
       "      <td>15.50</td>\n",
       "      <td>46</td>\n",
       "      <td>1070</td>\n",
       "      <td>0</td>\n",
       "      <td>2012</td>\n",
       "      <td>New Year</td>\n",
       "      <td>1</td>\n",
       "      <td>0</td>\n",
       "      <td>24.8</td>\n",
       "      <td>0</td>\n",
       "      <td>0</td>\n",
       "      <td>7821</td>\n",
       "      <td>BURGER</td>\n",
       "    </tr>\n",
       "    <tr>\n",
       "      <th>1</th>\n",
       "      <td>1/2/12</td>\n",
       "      <td>15.50</td>\n",
       "      <td>70</td>\n",
       "      <td>1070</td>\n",
       "      <td>0</td>\n",
       "      <td>2012</td>\n",
       "      <td>New Year</td>\n",
       "      <td>0</td>\n",
       "      <td>0</td>\n",
       "      <td>24.8</td>\n",
       "      <td>0</td>\n",
       "      <td>0</td>\n",
       "      <td>7821</td>\n",
       "      <td>BURGER</td>\n",
       "    </tr>\n",
       "    <tr>\n",
       "      <th>2</th>\n",
       "      <td>1/3/12</td>\n",
       "      <td>15.50</td>\n",
       "      <td>62</td>\n",
       "      <td>1070</td>\n",
       "      <td>0</td>\n",
       "      <td>2012</td>\n",
       "      <td>New Year</td>\n",
       "      <td>0</td>\n",
       "      <td>0</td>\n",
       "      <td>32.0</td>\n",
       "      <td>1</td>\n",
       "      <td>0</td>\n",
       "      <td>7821</td>\n",
       "      <td>BURGER</td>\n",
       "    </tr>\n",
       "    <tr>\n",
       "      <th>3</th>\n",
       "      <td>2/2/12</td>\n",
       "      <td>15.50</td>\n",
       "      <td>64</td>\n",
       "      <td>1070</td>\n",
       "      <td>0</td>\n",
       "      <td>2012</td>\n",
       "      <td>Luner New Year</td>\n",
       "      <td>0</td>\n",
       "      <td>0</td>\n",
       "      <td>32.0</td>\n",
       "      <td>1</td>\n",
       "      <td>0</td>\n",
       "      <td>7821</td>\n",
       "      <td>BURGER</td>\n",
       "    </tr>\n",
       "    <tr>\n",
       "      <th>4</th>\n",
       "      <td>2/3/12</td>\n",
       "      <td>15.50</td>\n",
       "      <td>62</td>\n",
       "      <td>1070</td>\n",
       "      <td>0</td>\n",
       "      <td>2012</td>\n",
       "      <td>Luner New Year</td>\n",
       "      <td>0</td>\n",
       "      <td>0</td>\n",
       "      <td>32.0</td>\n",
       "      <td>1</td>\n",
       "      <td>0</td>\n",
       "      <td>7821</td>\n",
       "      <td>BURGER</td>\n",
       "    </tr>\n",
       "    <tr>\n",
       "      <th>...</th>\n",
       "      <td>...</td>\n",
       "      <td>...</td>\n",
       "      <td>...</td>\n",
       "      <td>...</td>\n",
       "      <td>...</td>\n",
       "      <td>...</td>\n",
       "      <td>...</td>\n",
       "      <td>...</td>\n",
       "      <td>...</td>\n",
       "      <td>...</td>\n",
       "      <td>...</td>\n",
       "      <td>...</td>\n",
       "      <td>...</td>\n",
       "      <td>...</td>\n",
       "    </tr>\n",
       "    <tr>\n",
       "      <th>835</th>\n",
       "      <td>9/4/15</td>\n",
       "      <td>11.26</td>\n",
       "      <td>28</td>\n",
       "      <td>2053</td>\n",
       "      <td>2</td>\n",
       "      <td>2015</td>\n",
       "      <td>WWII Celebration</td>\n",
       "      <td>0</td>\n",
       "      <td>0</td>\n",
       "      <td>77.0</td>\n",
       "      <td>1</td>\n",
       "      <td>2</td>\n",
       "      <td>5030</td>\n",
       "      <td>COKE</td>\n",
       "    </tr>\n",
       "    <tr>\n",
       "      <th>836</th>\n",
       "      <td>9/4/15</td>\n",
       "      <td>11.26</td>\n",
       "      <td>28</td>\n",
       "      <td>2053</td>\n",
       "      <td>2</td>\n",
       "      <td>2015</td>\n",
       "      <td>WWII Celebration</td>\n",
       "      <td>0</td>\n",
       "      <td>0</td>\n",
       "      <td>77.0</td>\n",
       "      <td>1</td>\n",
       "      <td>2</td>\n",
       "      <td>3052</td>\n",
       "      <td>COFFEE</td>\n",
       "    </tr>\n",
       "    <tr>\n",
       "      <th>837</th>\n",
       "      <td>9/5/15</td>\n",
       "      <td>11.26</td>\n",
       "      <td>40</td>\n",
       "      <td>2053</td>\n",
       "      <td>2</td>\n",
       "      <td>2015</td>\n",
       "      <td>WWII Celebration</td>\n",
       "      <td>1</td>\n",
       "      <td>0</td>\n",
       "      <td>75.2</td>\n",
       "      <td>1</td>\n",
       "      <td>2</td>\n",
       "      <td>7821</td>\n",
       "      <td>BURGER</td>\n",
       "    </tr>\n",
       "    <tr>\n",
       "      <th>838</th>\n",
       "      <td>9/5/15</td>\n",
       "      <td>11.26</td>\n",
       "      <td>40</td>\n",
       "      <td>2053</td>\n",
       "      <td>2</td>\n",
       "      <td>2015</td>\n",
       "      <td>WWII Celebration</td>\n",
       "      <td>1</td>\n",
       "      <td>0</td>\n",
       "      <td>75.2</td>\n",
       "      <td>1</td>\n",
       "      <td>2</td>\n",
       "      <td>5030</td>\n",
       "      <td>COKE</td>\n",
       "    </tr>\n",
       "    <tr>\n",
       "      <th>839</th>\n",
       "      <td>9/5/15</td>\n",
       "      <td>11.26</td>\n",
       "      <td>40</td>\n",
       "      <td>2053</td>\n",
       "      <td>2</td>\n",
       "      <td>2015</td>\n",
       "      <td>WWII Celebration</td>\n",
       "      <td>1</td>\n",
       "      <td>0</td>\n",
       "      <td>75.2</td>\n",
       "      <td>1</td>\n",
       "      <td>2</td>\n",
       "      <td>3052</td>\n",
       "      <td>COFFEE</td>\n",
       "    </tr>\n",
       "  </tbody>\n",
       "</table>\n",
       "<p>840 rows × 14 columns</p>\n",
       "</div>"
      ],
      "text/plain": [
       "    CALENDAR_DATE  PRICE  QUANTITY  SELL_ID  SELL_CATEGORY_x  YEAR  \\\n",
       "0          1/1/12  15.50        46     1070                0  2012   \n",
       "1          1/2/12  15.50        70     1070                0  2012   \n",
       "2          1/3/12  15.50        62     1070                0  2012   \n",
       "3          2/2/12  15.50        64     1070                0  2012   \n",
       "4          2/3/12  15.50        62     1070                0  2012   \n",
       "..            ...    ...       ...      ...              ...   ...   \n",
       "835        9/4/15  11.26        28     2053                2  2015   \n",
       "836        9/4/15  11.26        28     2053                2  2015   \n",
       "837        9/5/15  11.26        40     2053                2  2015   \n",
       "838        9/5/15  11.26        40     2053                2  2015   \n",
       "839        9/5/15  11.26        40     2053                2  2015   \n",
       "\n",
       "              HOLIDAY  IS_WEEKEND  IS_SCHOOLBREAK  AVERAGE_TEMPERATURE  \\\n",
       "0            New Year           1               0                 24.8   \n",
       "1            New Year           0               0                 24.8   \n",
       "2            New Year           0               0                 32.0   \n",
       "3      Luner New Year           0               0                 32.0   \n",
       "4      Luner New Year           0               0                 32.0   \n",
       "..                ...         ...             ...                  ...   \n",
       "835  WWII Celebration           0               0                 77.0   \n",
       "836  WWII Celebration           0               0                 77.0   \n",
       "837  WWII Celebration           1               0                 75.2   \n",
       "838  WWII Celebration           1               0                 75.2   \n",
       "839  WWII Celebration           1               0                 75.2   \n",
       "\n",
       "     IS_OUTDOOR  SELL_CATEGORY_y  ITEM_ID ITEM_NAME  \n",
       "0             0                0     7821    BURGER  \n",
       "1             0                0     7821    BURGER  \n",
       "2             1                0     7821    BURGER  \n",
       "3             1                0     7821    BURGER  \n",
       "4             1                0     7821    BURGER  \n",
       "..          ...              ...      ...       ...  \n",
       "835           1                2     5030      COKE  \n",
       "836           1                2     3052    COFFEE  \n",
       "837           1                2     7821    BURGER  \n",
       "838           1                2     5030      COKE  \n",
       "839           1                2     3052    COFFEE  \n",
       "\n",
       "[840 rows x 14 columns]"
      ]
     },
     "execution_count": 28,
     "metadata": {},
     "output_type": "execute_result"
    }
   ],
   "source": [
    "tr_items_dates.dropna(how='any')"
   ]
  },
  {
   "cell_type": "code",
   "execution_count": 29,
   "id": "c7c8bca7",
   "metadata": {},
   "outputs": [
    {
     "data": {
      "text/plain": [
       "CALENDAR_DATE          0\n",
       "PRICE                  0\n",
       "QUANTITY               0\n",
       "SELL_ID                0\n",
       "SELL_CATEGORY_x        0\n",
       "YEAR                   0\n",
       "HOLIDAY                0\n",
       "IS_WEEKEND             0\n",
       "IS_SCHOOLBREAK         0\n",
       "AVERAGE_TEMPERATURE    0\n",
       "IS_OUTDOOR             0\n",
       "SELL_CATEGORY_y        0\n",
       "ITEM_ID                0\n",
       "ITEM_NAME              0\n",
       "dtype: int64"
      ]
     },
     "execution_count": 29,
     "metadata": {},
     "output_type": "execute_result"
    }
   ],
   "source": [
    "tr_items_dates.isna().sum()"
   ]
  },
  {
   "cell_type": "code",
   "execution_count": 30,
   "id": "2e772f4e",
   "metadata": {},
   "outputs": [],
   "source": [
    "tr_items_dates['YEAR'] = tr_items_dates['YEAR'].astype(int)"
   ]
  },
  {
   "cell_type": "code",
   "execution_count": 31,
   "id": "cc2f17a5",
   "metadata": {},
   "outputs": [
    {
     "data": {
      "text/plain": [
       "CALENDAR_DATE           object\n",
       "PRICE                  float64\n",
       "QUANTITY                 int64\n",
       "SELL_ID                  int64\n",
       "SELL_CATEGORY_x          int64\n",
       "YEAR                     int32\n",
       "HOLIDAY                 object\n",
       "IS_WEEKEND               int64\n",
       "IS_SCHOOLBREAK           int64\n",
       "AVERAGE_TEMPERATURE    float64\n",
       "IS_OUTDOOR               int64\n",
       "SELL_CATEGORY_y          int64\n",
       "ITEM_ID                  int64\n",
       "ITEM_NAME               object\n",
       "dtype: object"
      ]
     },
     "execution_count": 31,
     "metadata": {},
     "output_type": "execute_result"
    }
   ],
   "source": [
    "tr_items_dates.dtypes"
   ]
  },
  {
   "cell_type": "code",
   "execution_count": 32,
   "id": "64cbb314",
   "metadata": {},
   "outputs": [],
   "source": [
    "tr_items_dates = tr_items_dates.drop(['SELL_CATEGORY_x', 'SELL_CATEGORY_y'], axis = 1)"
   ]
  },
  {
   "cell_type": "code",
   "execution_count": 33,
   "id": "df37e8ad",
   "metadata": {},
   "outputs": [
    {
     "data": {
      "text/plain": [
       "Index(['CALENDAR_DATE', 'PRICE', 'QUANTITY', 'SELL_ID', 'YEAR', 'HOLIDAY',\n",
       "       'IS_WEEKEND', 'IS_SCHOOLBREAK', 'AVERAGE_TEMPERATURE', 'IS_OUTDOOR',\n",
       "       'ITEM_ID', 'ITEM_NAME'],\n",
       "      dtype='object')"
      ]
     },
     "execution_count": 33,
     "metadata": {},
     "output_type": "execute_result"
    }
   ],
   "source": [
    "tr_items_dates.columns"
   ]
  },
  {
   "cell_type": "code",
   "execution_count": 34,
   "id": "d827d9d7",
   "metadata": {},
   "outputs": [],
   "source": [
    "tr_items_dates = tr_items_dates.drop(['AVERAGE_TEMPERATURE', 'IS_OUTDOOR','ITEM_ID'], axis = 1)"
   ]
  },
  {
   "cell_type": "code",
   "execution_count": 35,
   "id": "27e0dbe4",
   "metadata": {},
   "outputs": [],
   "source": [
    "tr_items_dates = tr_items_dates.drop(['IS_WEEKEND', 'IS_SCHOOLBREAK'], axis = 1)"
   ]
  },
  {
   "cell_type": "code",
   "execution_count": 36,
   "id": "1570cf54",
   "metadata": {},
   "outputs": [
    {
     "data": {
      "text/plain": [
       "array(['BURGER', 'COKE', 'LEMONADE', 'COFFEE'], dtype=object)"
      ]
     },
     "execution_count": 36,
     "metadata": {},
     "output_type": "execute_result"
    }
   ],
   "source": [
    "tr_items_dates.ITEM_NAME.unique()"
   ]
  },
  {
   "cell_type": "code",
   "execution_count": 37,
   "id": "b462c37d",
   "metadata": {},
   "outputs": [
    {
     "data": {
      "text/plain": [
       "array([2012, 2013, 2014, 2015])"
      ]
     },
     "execution_count": 37,
     "metadata": {},
     "output_type": "execute_result"
    }
   ],
   "source": [
    "tr_items_dates.YEAR.unique()"
   ]
  },
  {
   "cell_type": "code",
   "execution_count": 38,
   "id": "fcd2ee8f",
   "metadata": {},
   "outputs": [
    {
     "data": {
      "text/plain": [
       "Index(['CALENDAR_DATE', 'PRICE', 'QUANTITY', 'SELL_ID', 'YEAR', 'HOLIDAY',\n",
       "       'ITEM_NAME'],\n",
       "      dtype='object')"
      ]
     },
     "execution_count": 38,
     "metadata": {},
     "output_type": "execute_result"
    }
   ],
   "source": [
    "tr_items_dates.columns"
   ]
  },
  {
   "cell_type": "code",
   "execution_count": 39,
   "id": "ed78f37f",
   "metadata": {},
   "outputs": [
    {
     "name": "stdout",
     "output_type": "stream",
     "text": [
      "dict_keys(['BURGER', 'COFFEE', 'COKE', 'LEMONADE'])\n"
     ]
    }
   ],
   "source": [
    "itemwisegroups = tr_items_dates.groupby(['ITEM_NAME'])\n",
    "print(itemwisegroups.groups.keys())\n"
   ]
  },
  {
   "cell_type": "code",
   "execution_count": 40,
   "id": "3ac81b8e",
   "metadata": {},
   "outputs": [],
   "source": [
    "burgersdata = itemwisegroups.get_group('BURGER')\n",
    "coffeedata = itemwisegroups.get_group('COFFEE')\n",
    "cokedata = itemwisegroups.get_group('COKE')\n",
    "lemonadedata = itemwisegroups.get_group('LEMONADE')\n",
    "\n",
    "#[itemwisegroups.get_group(x) for x in itemwisegroups.groups]"
   ]
  },
  {
   "cell_type": "code",
   "execution_count": 41,
   "id": "8615fa6c",
   "metadata": {},
   "outputs": [
    {
     "data": {
      "text/html": [
       "<div>\n",
       "<style scoped>\n",
       "    .dataframe tbody tr th:only-of-type {\n",
       "        vertical-align: middle;\n",
       "    }\n",
       "\n",
       "    .dataframe tbody tr th {\n",
       "        vertical-align: top;\n",
       "    }\n",
       "\n",
       "    .dataframe thead th {\n",
       "        text-align: right;\n",
       "    }\n",
       "</style>\n",
       "<table border=\"1\" class=\"dataframe\">\n",
       "  <thead>\n",
       "    <tr style=\"text-align: right;\">\n",
       "      <th></th>\n",
       "      <th>CALENDAR_DATE</th>\n",
       "      <th>PRICE</th>\n",
       "      <th>QUANTITY</th>\n",
       "      <th>SELL_ID</th>\n",
       "      <th>YEAR</th>\n",
       "      <th>HOLIDAY</th>\n",
       "      <th>ITEM_NAME</th>\n",
       "    </tr>\n",
       "  </thead>\n",
       "  <tbody>\n",
       "    <tr>\n",
       "      <th>0</th>\n",
       "      <td>1/1/12</td>\n",
       "      <td>15.5</td>\n",
       "      <td>46</td>\n",
       "      <td>1070</td>\n",
       "      <td>2012</td>\n",
       "      <td>New Year</td>\n",
       "      <td>BURGER</td>\n",
       "    </tr>\n",
       "    <tr>\n",
       "      <th>1</th>\n",
       "      <td>1/2/12</td>\n",
       "      <td>15.5</td>\n",
       "      <td>70</td>\n",
       "      <td>1070</td>\n",
       "      <td>2012</td>\n",
       "      <td>New Year</td>\n",
       "      <td>BURGER</td>\n",
       "    </tr>\n",
       "    <tr>\n",
       "      <th>2</th>\n",
       "      <td>1/3/12</td>\n",
       "      <td>15.5</td>\n",
       "      <td>62</td>\n",
       "      <td>1070</td>\n",
       "      <td>2012</td>\n",
       "      <td>New Year</td>\n",
       "      <td>BURGER</td>\n",
       "    </tr>\n",
       "    <tr>\n",
       "      <th>3</th>\n",
       "      <td>2/2/12</td>\n",
       "      <td>15.5</td>\n",
       "      <td>64</td>\n",
       "      <td>1070</td>\n",
       "      <td>2012</td>\n",
       "      <td>Luner New Year</td>\n",
       "      <td>BURGER</td>\n",
       "    </tr>\n",
       "    <tr>\n",
       "      <th>4</th>\n",
       "      <td>2/3/12</td>\n",
       "      <td>15.5</td>\n",
       "      <td>62</td>\n",
       "      <td>1070</td>\n",
       "      <td>2012</td>\n",
       "      <td>Luner New Year</td>\n",
       "      <td>BURGER</td>\n",
       "    </tr>\n",
       "  </tbody>\n",
       "</table>\n",
       "</div>"
      ],
      "text/plain": [
       "  CALENDAR_DATE  PRICE  QUANTITY  SELL_ID  YEAR         HOLIDAY ITEM_NAME\n",
       "0        1/1/12   15.5        46     1070  2012        New Year    BURGER\n",
       "1        1/2/12   15.5        70     1070  2012        New Year    BURGER\n",
       "2        1/3/12   15.5        62     1070  2012        New Year    BURGER\n",
       "3        2/2/12   15.5        64     1070  2012  Luner New Year    BURGER\n",
       "4        2/3/12   15.5        62     1070  2012  Luner New Year    BURGER"
      ]
     },
     "execution_count": 41,
     "metadata": {},
     "output_type": "execute_result"
    }
   ],
   "source": [
    "burgersdata.head()"
   ]
  },
  {
   "cell_type": "code",
   "execution_count": 42,
   "id": "43f83410",
   "metadata": {},
   "outputs": [
    {
     "data": {
      "text/html": [
       "<div>\n",
       "<style scoped>\n",
       "    .dataframe tbody tr th:only-of-type {\n",
       "        vertical-align: middle;\n",
       "    }\n",
       "\n",
       "    .dataframe tbody tr th {\n",
       "        vertical-align: top;\n",
       "    }\n",
       "\n",
       "    .dataframe thead th {\n",
       "        text-align: right;\n",
       "    }\n",
       "</style>\n",
       "<table border=\"1\" class=\"dataframe\">\n",
       "  <thead>\n",
       "    <tr style=\"text-align: right;\">\n",
       "      <th></th>\n",
       "      <th>CALENDAR_DATE</th>\n",
       "      <th>PRICE</th>\n",
       "      <th>QUANTITY</th>\n",
       "      <th>SELL_ID</th>\n",
       "      <th>YEAR</th>\n",
       "      <th>HOLIDAY</th>\n",
       "      <th>ITEM_NAME</th>\n",
       "    </tr>\n",
       "  </thead>\n",
       "  <tbody>\n",
       "    <tr>\n",
       "      <th>527</th>\n",
       "      <td>1/1/12</td>\n",
       "      <td>12.6</td>\n",
       "      <td>30</td>\n",
       "      <td>2053</td>\n",
       "      <td>2012</td>\n",
       "      <td>New Year</td>\n",
       "      <td>COFFEE</td>\n",
       "    </tr>\n",
       "    <tr>\n",
       "      <th>530</th>\n",
       "      <td>1/2/12</td>\n",
       "      <td>12.6</td>\n",
       "      <td>34</td>\n",
       "      <td>2053</td>\n",
       "      <td>2012</td>\n",
       "      <td>New Year</td>\n",
       "      <td>COFFEE</td>\n",
       "    </tr>\n",
       "    <tr>\n",
       "      <th>533</th>\n",
       "      <td>1/3/12</td>\n",
       "      <td>12.6</td>\n",
       "      <td>28</td>\n",
       "      <td>2053</td>\n",
       "      <td>2012</td>\n",
       "      <td>New Year</td>\n",
       "      <td>COFFEE</td>\n",
       "    </tr>\n",
       "    <tr>\n",
       "      <th>536</th>\n",
       "      <td>2/2/12</td>\n",
       "      <td>12.6</td>\n",
       "      <td>34</td>\n",
       "      <td>2053</td>\n",
       "      <td>2012</td>\n",
       "      <td>Luner New Year</td>\n",
       "      <td>COFFEE</td>\n",
       "    </tr>\n",
       "    <tr>\n",
       "      <th>539</th>\n",
       "      <td>2/3/12</td>\n",
       "      <td>12.6</td>\n",
       "      <td>32</td>\n",
       "      <td>2053</td>\n",
       "      <td>2012</td>\n",
       "      <td>Luner New Year</td>\n",
       "      <td>COFFEE</td>\n",
       "    </tr>\n",
       "  </tbody>\n",
       "</table>\n",
       "</div>"
      ],
      "text/plain": [
       "    CALENDAR_DATE  PRICE  QUANTITY  SELL_ID  YEAR         HOLIDAY ITEM_NAME\n",
       "527        1/1/12   12.6        30     2053  2012        New Year    COFFEE\n",
       "530        1/2/12   12.6        34     2053  2012        New Year    COFFEE\n",
       "533        1/3/12   12.6        28     2053  2012        New Year    COFFEE\n",
       "536        2/2/12   12.6        34     2053  2012  Luner New Year    COFFEE\n",
       "539        2/3/12   12.6        32     2053  2012  Luner New Year    COFFEE"
      ]
     },
     "execution_count": 42,
     "metadata": {},
     "output_type": "execute_result"
    }
   ],
   "source": [
    "coffeedata.head()"
   ]
  },
  {
   "cell_type": "code",
   "execution_count": 43,
   "id": "1559dee1",
   "metadata": {},
   "outputs": [
    {
     "data": {
      "text/plain": [
       "<AxesSubplot:xlabel='QUANTITY', ylabel='PRICE'>"
      ]
     },
     "execution_count": 43,
     "metadata": {},
     "output_type": "execute_result"
    },
    {
     "data": {
      "image/png": "[encoded data removed]",
      "text/plain": [
       "<Figure size 576x288 with 1 Axes>"
      ]
     },
     "metadata": {
      "needs_background": "light"
     },
     "output_type": "display_data"
    }
   ],
   "source": [
    "plt.rcParams[\"figure.figsize\"] = (8, 4)\n",
    "sns.regplot(data = burgersdata, x = 'QUANTITY', y = 'PRICE')"
   ]
  },
  {
   "cell_type": "code",
   "execution_count": 44,
   "id": "4aee0882",
   "metadata": {},
   "outputs": [
    {
     "data": {
      "text/html": [
       "<div>\n",
       "<style scoped>\n",
       "    .dataframe tbody tr th:only-of-type {\n",
       "        vertical-align: middle;\n",
       "    }\n",
       "\n",
       "    .dataframe tbody tr th {\n",
       "        vertical-align: top;\n",
       "    }\n",
       "\n",
       "    .dataframe thead th {\n",
       "        text-align: right;\n",
       "    }\n",
       "</style>\n",
       "<table border=\"1\" class=\"dataframe\">\n",
       "  <thead>\n",
       "    <tr style=\"text-align: right;\">\n",
       "      <th></th>\n",
       "      <th>CALENDAR_DATE</th>\n",
       "      <th>PRICE</th>\n",
       "      <th>QUANTITY</th>\n",
       "      <th>SELL_ID</th>\n",
       "      <th>YEAR</th>\n",
       "      <th>HOLIDAY</th>\n",
       "      <th>ITEM_NAME</th>\n",
       "    </tr>\n",
       "  </thead>\n",
       "  <tbody>\n",
       "    <tr>\n",
       "      <th>106</th>\n",
       "      <td>1/1/12</td>\n",
       "      <td>12.73</td>\n",
       "      <td>22</td>\n",
       "      <td>2051</td>\n",
       "      <td>2012</td>\n",
       "      <td>New Year</td>\n",
       "      <td>COKE</td>\n",
       "    </tr>\n",
       "    <tr>\n",
       "      <th>108</th>\n",
       "      <td>1/2/12</td>\n",
       "      <td>12.73</td>\n",
       "      <td>22</td>\n",
       "      <td>2051</td>\n",
       "      <td>2012</td>\n",
       "      <td>New Year</td>\n",
       "      <td>COKE</td>\n",
       "    </tr>\n",
       "    <tr>\n",
       "      <th>110</th>\n",
       "      <td>1/3/12</td>\n",
       "      <td>12.73</td>\n",
       "      <td>26</td>\n",
       "      <td>2051</td>\n",
       "      <td>2012</td>\n",
       "      <td>New Year</td>\n",
       "      <td>COKE</td>\n",
       "    </tr>\n",
       "    <tr>\n",
       "      <th>112</th>\n",
       "      <td>2/2/12</td>\n",
       "      <td>12.73</td>\n",
       "      <td>18</td>\n",
       "      <td>2051</td>\n",
       "      <td>2012</td>\n",
       "      <td>Luner New Year</td>\n",
       "      <td>COKE</td>\n",
       "    </tr>\n",
       "    <tr>\n",
       "      <th>114</th>\n",
       "      <td>2/3/12</td>\n",
       "      <td>12.73</td>\n",
       "      <td>20</td>\n",
       "      <td>2051</td>\n",
       "      <td>2012</td>\n",
       "      <td>Luner New Year</td>\n",
       "      <td>COKE</td>\n",
       "    </tr>\n",
       "  </tbody>\n",
       "</table>\n",
       "</div>"
      ],
      "text/plain": [
       "    CALENDAR_DATE  PRICE  QUANTITY  SELL_ID  YEAR         HOLIDAY ITEM_NAME\n",
       "106        1/1/12  12.73        22     2051  2012        New Year      COKE\n",
       "108        1/2/12  12.73        22     2051  2012        New Year      COKE\n",
       "110        1/3/12  12.73        26     2051  2012        New Year      COKE\n",
       "112        2/2/12  12.73        18     2051  2012  Luner New Year      COKE\n",
       "114        2/3/12  12.73        20     2051  2012  Luner New Year      COKE"
      ]
     },
     "execution_count": 44,
     "metadata": {},
     "output_type": "execute_result"
    }
   ],
   "source": [
    "cokedata.head()"
   ]
  },
  {
   "cell_type": "code",
   "execution_count": 45,
   "id": "5c71ec48",
   "metadata": {},
   "outputs": [
    {
     "data": {
      "text/plain": [
       "<AxesSubplot:xlabel='QUANTITY', ylabel='PRICE'>"
      ]
     },
     "execution_count": 45,
     "metadata": {},
     "output_type": "execute_result"
    },
    {
     "data": {
      "image/png": "[encoded data removed]",
      "text/plain": [
       "<Figure size 576x288 with 1 Axes>"
      ]
     },
     "metadata": {
      "needs_background": "light"
     },
     "output_type": "display_data"
    }
   ],
   "source": [
    "plt.rcParams[\"figure.figsize\"] = (8, 4)\n",
    "sns.regplot(data = cokedata, x = 'QUANTITY', y = 'PRICE')"
   ]
  },
  {
   "cell_type": "code",
   "execution_count": 46,
   "id": "824bd383",
   "metadata": {},
   "outputs": [
    {
     "data": {
      "text/html": [
       "<div>\n",
       "<style scoped>\n",
       "    .dataframe tbody tr th:only-of-type {\n",
       "        vertical-align: middle;\n",
       "    }\n",
       "\n",
       "    .dataframe tbody tr th {\n",
       "        vertical-align: top;\n",
       "    }\n",
       "\n",
       "    .dataframe thead th {\n",
       "        text-align: right;\n",
       "    }\n",
       "</style>\n",
       "<table border=\"1\" class=\"dataframe\">\n",
       "  <thead>\n",
       "    <tr style=\"text-align: right;\">\n",
       "      <th></th>\n",
       "      <th>CALENDAR_DATE</th>\n",
       "      <th>PRICE</th>\n",
       "      <th>QUANTITY</th>\n",
       "      <th>SELL_ID</th>\n",
       "      <th>YEAR</th>\n",
       "      <th>HOLIDAY</th>\n",
       "      <th>ITEM_NAME</th>\n",
       "    </tr>\n",
       "  </thead>\n",
       "  <tbody>\n",
       "    <tr>\n",
       "      <th>316</th>\n",
       "      <td>1/1/12</td>\n",
       "      <td>12.75</td>\n",
       "      <td>18</td>\n",
       "      <td>2052</td>\n",
       "      <td>2012</td>\n",
       "      <td>New Year</td>\n",
       "      <td>LEMONADE</td>\n",
       "    </tr>\n",
       "    <tr>\n",
       "      <th>318</th>\n",
       "      <td>1/2/12</td>\n",
       "      <td>12.75</td>\n",
       "      <td>16</td>\n",
       "      <td>2052</td>\n",
       "      <td>2012</td>\n",
       "      <td>New Year</td>\n",
       "      <td>LEMONADE</td>\n",
       "    </tr>\n",
       "    <tr>\n",
       "      <th>320</th>\n",
       "      <td>1/3/12</td>\n",
       "      <td>12.75</td>\n",
       "      <td>12</td>\n",
       "      <td>2052</td>\n",
       "      <td>2012</td>\n",
       "      <td>New Year</td>\n",
       "      <td>LEMONADE</td>\n",
       "    </tr>\n",
       "    <tr>\n",
       "      <th>322</th>\n",
       "      <td>2/2/12</td>\n",
       "      <td>12.75</td>\n",
       "      <td>18</td>\n",
       "      <td>2052</td>\n",
       "      <td>2012</td>\n",
       "      <td>Luner New Year</td>\n",
       "      <td>LEMONADE</td>\n",
       "    </tr>\n",
       "    <tr>\n",
       "      <th>324</th>\n",
       "      <td>2/3/12</td>\n",
       "      <td>12.75</td>\n",
       "      <td>16</td>\n",
       "      <td>2052</td>\n",
       "      <td>2012</td>\n",
       "      <td>Luner New Year</td>\n",
       "      <td>LEMONADE</td>\n",
       "    </tr>\n",
       "  </tbody>\n",
       "</table>\n",
       "</div>"
      ],
      "text/plain": [
       "    CALENDAR_DATE  PRICE  QUANTITY  SELL_ID  YEAR         HOLIDAY ITEM_NAME\n",
       "316        1/1/12  12.75        18     2052  2012        New Year  LEMONADE\n",
       "318        1/2/12  12.75        16     2052  2012        New Year  LEMONADE\n",
       "320        1/3/12  12.75        12     2052  2012        New Year  LEMONADE\n",
       "322        2/2/12  12.75        18     2052  2012  Luner New Year  LEMONADE\n",
       "324        2/3/12  12.75        16     2052  2012  Luner New Year  LEMONADE"
      ]
     },
     "execution_count": 46,
     "metadata": {},
     "output_type": "execute_result"
    }
   ],
   "source": [
    "lemonadedata.head()"
   ]
  },
  {
   "cell_type": "code",
   "execution_count": 47,
   "id": "97ba24b9",
   "metadata": {},
   "outputs": [
    {
     "data": {
      "text/plain": [
       "<AxesSubplot:xlabel='QUANTITY', ylabel='PRICE'>"
      ]
     },
     "execution_count": 47,
     "metadata": {},
     "output_type": "execute_result"
    },
    {
     "data": {
      "image/png": "[encoded data removed]",
      "text/plain": [
       "<Figure size 576x288 with 1 Axes>"
      ]
     },
     "metadata": {
      "needs_background": "light"
     },
     "output_type": "display_data"
    }
   ],
   "source": [
    "plt.rcParams[\"figure.figsize\"] = (8, 4)\n",
    "sns.regplot(data = lemonadedata, x = 'QUANTITY', y = 'PRICE')"
   ]
  },
  {
   "cell_type": "code",
   "execution_count": 51,
   "id": "c7cb6201",
   "metadata": {},
   "outputs": [
    {
     "data": {
      "text/plain": [
       "DecisionTreeRegressor(max_depth=4, random_state=1)"
      ]
     },
     "execution_count": 51,
     "metadata": {},
     "output_type": "execute_result"
    }
   ],
   "source": [
    "dt_burgers = DecisionTreeRegressor(max_depth = 4, random_state = 1)\n",
    "x = burgersdata[['PRICE']]\n",
    "y = burgersdata['QUANTITY']\n",
    "dt_burgers.fit(x,y)\n"
   ]
  },
  {
   "cell_type": "code",
   "execution_count": 52,
   "id": "895a7771",
   "metadata": {},
   "outputs": [
    {
     "data": {
      "image/png": "[encoded data removed]",
      "text/plain": [
       "<Figure size 576x288 with 1 Axes>"
      ]
     },
     "metadata": {
      "needs_background": "light"
     },
     "output_type": "display_data"
    }
   ],
   "source": [
    "sns.scatterplot(x='PRICE', y= 'QUANTITY',data = burgersdata)\n",
    "plt.plot(burgersdata['PRICE'].sort_values(), dt_burgers.predict(burgersdata['PRICE'].sort_values().to_frame()),\n",
    "         color='red', label='model', linewidth=2)\n",
    "plt.legend()\n",
    "plt.show()"
   ]
  },
  {
   "cell_type": "code",
   "execution_count": 53,
   "id": "66f240e1",
   "metadata": {},
   "outputs": [
    {
     "data": {
      "text/plain": [
       "DecisionTreeRegressor(max_depth=4, random_state=1)"
      ]
     },
     "execution_count": 53,
     "metadata": {},
     "output_type": "execute_result"
    }
   ],
   "source": [
    "dt_coffee = DecisionTreeRegressor(max_depth = 4, random_state = 1)\n",
    "x = coffeedata[['PRICE']]\n",
    "y = coffeedata['QUANTITY']\n",
    "dt_coffee.fit(x,y)"
   ]
  },
  {
   "cell_type": "code",
   "execution_count": 54,
   "id": "2cc2417e",
   "metadata": {},
   "outputs": [
    {
     "data": {
      "image/png": "[encoded data removed]",
      "text/plain": [
       "<Figure size 576x288 with 1 Axes>"
      ]
     },
     "metadata": {
      "needs_background": "light"
     },
     "output_type": "display_data"
    }
   ],
   "source": [
    "sns.scatterplot(x='PRICE', y= 'QUANTITY',data = coffeedata)\n",
    "plt.plot(coffeedata['PRICE'].sort_values(), dt_burgers.predict(coffeedata['PRICE'].sort_values().to_frame()),\n",
    "         color='red', label='model', linewidth=2)\n",
    "plt.legend()\n",
    "plt.show()"
   ]
  },
  {
   "cell_type": "code",
   "execution_count": 55,
   "id": "b7dec676",
   "metadata": {},
   "outputs": [
    {
     "data": {
      "image/png": "[encoded data removed]",
      "text/plain": [
       "<Figure size 576x288 with 1 Axes>"
      ]
     },
     "metadata": {
      "needs_background": "light"
     },
     "output_type": "display_data"
    }
   ],
   "source": [
    "dt_coke = DecisionTreeRegressor(max_depth = 4, random_state = 1)\n",
    "x = cokedata[['PRICE']]\n",
    "y = cokedata['QUANTITY']\n",
    "dt_coke.fit(x,y)\n",
    "\n",
    "sns.scatterplot(x='PRICE', y= 'QUANTITY',data = cokedata)\n",
    "plt.plot(cokedata['PRICE'].sort_values(), dt_coke.predict(cokedata['PRICE'].sort_values().to_frame()),\n",
    "         color='red', label='model', linewidth=2)\n",
    "plt.legend()\n",
    "plt.show()\n"
   ]
  },
  {
   "cell_type": "code",
   "execution_count": 56,
   "id": "f272bbec",
   "metadata": {},
   "outputs": [
    {
     "data": {
      "image/png": "[encoded data removed]",
      "text/plain": [
       "<Figure size 576x288 with 1 Axes>"
      ]
     },
     "metadata": {
      "needs_background": "light"
     },
     "output_type": "display_data"
    }
   ],
   "source": [
    "dt_lemonade = DecisionTreeRegressor(max_depth = 4, random_state = 1)\n",
    "x = lemonadedata[['PRICE']]\n",
    "y = lemonadedata['QUANTITY']\n",
    "dt_lemonade.fit(x,y)\n",
    "\n",
    "sns.scatterplot(x='PRICE', y= 'QUANTITY',data = lemonadedata)\n",
    "plt.plot(lemonadedata['PRICE'].sort_values(), dt_lemonade.predict(lemonadedata['PRICE'].sort_values().to_frame()),\n",
    "         color='red', label='model', linewidth=2)\n",
    "plt.legend()\n",
    "plt.show()\n"
   ]
  },
  {
   "cell_type": "code",
   "execution_count": 57,
   "id": "9de7349b",
   "metadata": {},
   "outputs": [],
   "source": [
    "\n",
    "def price_elasticity(data):\n",
    "    x = data[['PRICE']]\n",
    "    y = data['QUANTITY']\n",
    "    \n",
    "    dt_elasticity = DecisionTreeRegressor(max_depth = 4, random_state = 1)\n",
    "    dt_elasticity.fit(x,y)\n",
    "    price_elasticity = dt_elasticity.feature_importances_\n",
    "    return price_elasticity, dt_elasticity\n",
    "\n",
    "\n",
    "def find_optimal_price(data, model, buying_price):\n",
    "    start_price = data.PRICE.min() - 1\n",
    "    end_price = data.PRICE.min() + 10\n",
    "    test = pd.DataFrame(columns = [\"PRICE\", \"QUANTITY\"])\n",
    "    test['PRICE'] = np.arange(start_price, end_price,0.01)\n",
    "    test['QUANTITY'] = model.predict(test[['PRICE']])\n",
    "    test['PROFIT'] = (test[\"PRICE\"] - buying_price) * test[\"QUANTITY\"]\n",
    "    ind = np.where(test['PROFIT'] == test['PROFIT'].max())[0][0]\n",
    "    values_at_max_profit = test.iloc[[ind]]\n",
    "    return values_at_max_profit\n"
   ]
  },
  {
   "cell_type": "code",
   "execution_count": 58,
   "id": "2817b341",
   "metadata": {},
   "outputs": [
    {
     "name": "stdout",
     "output_type": "stream",
     "text": [
      "Price Elasticity Burgers: [1.] Model Burgers: DecisionTreeRegressor(max_depth=4, random_state=1)\n",
      "Price Elasticity Coffee: [1.] Model Coffee: DecisionTreeRegressor(max_depth=4, random_state=1)\n",
      "Price Elasticity Coke: [1.] Model Coke: DecisionTreeRegressor(max_depth=4, random_state=1)\n",
      "Price Elasticity Lemonade: [1.] Model Lemonade: DecisionTreeRegressor(max_depth=4, random_state=1)\n"
     ]
    }
   ],
   "source": [
    "elasticity_burgers, model_burgers, = price_elasticity(burgersdata)\n",
    "print(\"Price Elasticity Burgers:\", elasticity_burgers, \"Model Burgers:\", model_burgers)\n",
    "\n",
    "elasticity_coffee, model_coffee = price_elasticity(coffeedata)\n",
    "print(\"Price Elasticity Coffee:\", elasticity_coffee, \"Model Coffee:\", model_coffee)\n",
    "\n",
    "elasticity_coke, model_coke = price_elasticity(cokedata)\n",
    "print(\"Price Elasticity Coke:\", elasticity_coke, \"Model Coke:\",model_coke)\n",
    "\n",
    "elasticity_lemonade, model_lemonade = price_elasticity(lemonadedata)\n",
    "print(\"Price Elasticity Lemonade:\", elasticity_lemonade, \"Model Lemonade:\",model_lemonade)\n"
   ]
  },
  {
   "cell_type": "code",
   "execution_count": 59,
   "id": "2514435a",
   "metadata": {},
   "outputs": [
    {
     "data": {
      "text/plain": [
       "{'burgers':       PRICE   QUANTITY      PROFIT\n",
       " 1099  20.11  49.666667  899.463333}"
      ]
     },
     "execution_count": 59,
     "metadata": {},
     "output_type": "execute_result"
    }
   ],
   "source": [
    "optimal_price = {}\n",
    "buying_price = 2\n",
    "optimal_price['burgers'] = find_optimal_price(burgersdata, model_burgers, buying_price)\n",
    "optimal_price"
   ]
  },
  {
   "cell_type": "code",
   "execution_count": 60,
   "id": "6e36e029",
   "metadata": {},
   "outputs": [
    {
     "data": {
      "text/plain": [
       "{'coffee':       PRICE   QUANTITY      PROFIT\n",
       " 1099  20.44  33.692308  284.363077}"
      ]
     },
     "execution_count": 60,
     "metadata": {},
     "output_type": "execute_result"
    }
   ],
   "source": [
    "optimal_price = {}\n",
    "buying_price = 12\n",
    "optimal_price['coffee'] = find_optimal_price(coffeedata, model_coffee, buying_price)\n",
    "optimal_price"
   ]
  },
  {
   "cell_type": "code",
   "execution_count": 61,
   "id": "a74878dd",
   "metadata": {},
   "outputs": [
    {
     "data": {
      "text/plain": [
       "{'coke':       PRICE   QUANTITY      PROFIT\n",
       " 1099  20.44  33.692308  284.363077}"
      ]
     },
     "execution_count": 61,
     "metadata": {},
     "output_type": "execute_result"
    }
   ],
   "source": [
    "optimal_price = {}\n",
    "buying_price = 12\n",
    "optimal_price['coke'] = find_optimal_price(cokedata, model_coke, buying_price)\n",
    "optimal_price"
   ]
  },
  {
   "cell_type": "code",
   "execution_count": 62,
   "id": "d263bc19",
   "metadata": {},
   "outputs": [
    {
     "data": {
      "text/plain": [
       "{'lemonade':       PRICE  QUANTITY   PROFIT\n",
       " 1099  20.11      14.4  116.784}"
      ]
     },
     "execution_count": 62,
     "metadata": {},
     "output_type": "execute_result"
    }
   ],
   "source": [
    "optimal_price = {}\n",
    "buying_price = 12\n",
    "optimal_price['lemonade'] = find_optimal_price(lemonadedata, model_lemonade, buying_price)\n",
    "optimal_price"
   ]
  },
  {
   "cell_type": "code",
   "execution_count": null,
   "id": "95190ed1",
   "metadata": {},
   "outputs": [],
   "source": []
  }
 ],
 "metadata": {
  "kernelspec": {
   "display_name": "Python 3 (ipykernel)",
   "language": "python",
   "name": "python3"
  },
  "language_info": {
   "codemirror_mode": {
    "name": "ipython",
    "version": 3
   },
   "file_extension": ".py",
   "mimetype": "text/x-python",
   "name": "python",
   "nbconvert_exporter": "python",
   "pygments_lexer": "ipython3",
   "version": "3.9.12"
  }
 },
 "nbformat": 4,
 "nbformat_minor": 5
}
